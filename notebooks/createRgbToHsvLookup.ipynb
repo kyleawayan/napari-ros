{
  "cells": [
    {
      "cell_type": "code",
      "execution_count": 9,
      "metadata": {},
      "outputs": [],
      "source": [
        "import numpy as np"
      ]
    },
    {
      "cell_type": "code",
      "execution_count": 10,
      "metadata": {},
      "outputs": [],
      "source": [
        "def create_rgb_to_hsv_lookup():\n",
        "    # Define a lookup table with precomputed HSV values for all RGB values\n",
        "    hsv_lookup = np.empty((256, 256, 256, 3), dtype=np.float32)\n",
        "    for r in range(256):\n",
        "        for g in range(256):\n",
        "            for b in range(256):\n",
        "                max_value = max(r, g, b)\n",
        "                min_value = min(r, g, b)\n",
        "                v = max_value / 255.0\n",
        "                if max_value == min_value:\n",
        "                    h = 0\n",
        "                    s = 0\n",
        "                else:\n",
        "                    diff = max_value - min_value\n",
        "                    s = diff / max_value\n",
        "                    if r == max_value:\n",
        "                        h = (g - b) / diff\n",
        "                    elif g == max_value:\n",
        "                        h = 2.0 + (b - r) / diff\n",
        "                    else:\n",
        "                        h = 4.0 + (r - g) / diff\n",
        "                    h *= 60\n",
        "                    if h < 0:\n",
        "                        h += 360\n",
        "                    h /= 360.0\n",
        "                hsv_lookup[r, g, b] = np.array([h, s, v], dtype=np.float32)\n",
        "    return hsv_lookup"
      ]
    },
    {
      "cell_type": "code",
      "execution_count": 11,
      "metadata": {},
      "outputs": [],
      "source": [
        "lookup = create_rgb_to_hsv_lookup()"
      ]
    },
    {
      "cell_type": "code",
      "execution_count": 12,
      "metadata": {},
      "outputs": [],
      "source": [
        "# Save it\n",
        "np.save(\n",
        "    \"/Users/kyle/Documents/Projects/napari-ros/src/napari_ros/precomputed/rgbToHsv.npy\",\n",
        "    lookup,\n",
        ")"
      ]
    }
  ],
  "metadata": {
    "kernelspec": {
      "display_name": "napari-env",
      "language": "python",
      "name": "python3"
    },
    "language_info": {
      "codemirror_mode": {
        "name": "ipython",
        "version": 3
      },
      "file_extension": ".py",
      "mimetype": "text/x-python",
      "name": "python",
      "nbconvert_exporter": "python",
      "pygments_lexer": "ipython3",
      "version": "3.9.16"
    },
    "orig_nbformat": 4
  },
  "nbformat": 4,
  "nbformat_minor": 2
}
