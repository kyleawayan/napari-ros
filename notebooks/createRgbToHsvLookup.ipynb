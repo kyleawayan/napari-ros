{
 "cells": [
  {
   "cell_type": "code",
   "execution_count": null,
   "metadata": {},
   "outputs": [],
   "source": [
    "import numpy as np"
   ]
  },
  {
   "cell_type": "code",
   "execution_count": null,
   "metadata": {},
   "outputs": [],
   "source": [
    "def create_rgb_to_hsv_lookup():\n",
    "    # Define a lookup table with precomputed HSV values for all RGB values\n",
    "    hsv_lookup = np.empty((256, 256, 256, 3), dtype=np.float32)\n",
    "    for r in range(256):\n",
    "        for g in range(256):\n",
    "            for b in range(256):\n",
    "                max_value = max(r, g, b)\n",
    "                min_value = min(r, g, b)\n",
    "                v = max_value / 255.0\n",
    "                if max_value == 0:\n",
    "                    s = 0.0\n",
    "                    h = 0.0\n",
    "                else:\n",
    "                    s = (max_value - min_value) / max_value\n",
    "                    if max_value == min_value:\n",
    "                        h = 0.0\n",
    "                    elif max_value == r:\n",
    "                        h = (g - b) / (max_value - min_value)\n",
    "                    elif max_value == g:\n",
    "                        h = 2 + (b - r) / (max_value - min_value)\n",
    "                    else:\n",
    "                        h = 4 + (r - g) / (max_value - min_value)\n",
    "                    h *= 60.0\n",
    "                    if h < 0:\n",
    "                        h += 360.0\n",
    "                    h /= 360.0\n",
    "                hsv_lookup[r, g, b] = np.array([h, s, v], dtype=np.float32)\n",
    "    return hsv_lookup"
   ]
  },
  {
   "cell_type": "code",
   "execution_count": null,
   "metadata": {},
   "outputs": [],
   "source": [
    "lookup = create_rgb_to_hsv_lookup()"
   ]
  },
  {
   "cell_type": "code",
   "execution_count": null,
   "metadata": {},
   "outputs": [],
   "source": [
    "# Save it\n",
    "np.save(\n",
    "    \"/Users/kyle/Documents/Projects/napari-ros/src/napari_ros/precomputed/rgbToHsv.npy\",\n",
    "    lookup,\n",
    ")"
   ]
  }
 ],
 "metadata": {
  "kernelspec": {
   "display_name": "napari-env",
   "language": "python",
   "name": "python3"
  },
  "language_info": {
   "name": "python",
   "version": "3.9.16"
  },
  "orig_nbformat": 4
 },
 "nbformat": 4,
 "nbformat_minor": 2
}
